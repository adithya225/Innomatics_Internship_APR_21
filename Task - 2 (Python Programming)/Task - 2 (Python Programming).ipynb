{
 "cells": [
  {
   "cell_type": "code",
   "execution_count": 2,
   "metadata": {},
   "outputs": [
    {
     "name": "stdout",
     "output_type": "stream",
     "text": [
      "3\n",
      "1\n",
      "2\n",
      "1\n",
      "[[0, 0, 0], [0, 0, 2], [0, 1, 1], [0, 1, 2], [1, 0, 1], [1, 0, 2], [1, 1, 0], [1, 1, 1], [1, 1, 2], [2, 0, 0], [2, 0, 1], [2, 0, 2], [2, 1, 0], [2, 1, 1], [2, 1, 2], [3, 0, 0], [3, 0, 1], [3, 0, 2], [3, 1, 0], [3, 1, 1], [3, 1, 2]]\n"
     ]
    }
   ],
   "source": [
    "# Question 1 -> List Comprehensions\n",
    "\n",
    "if __name__ == '__main__':\n",
    "    x = int(input())\n",
    "    y = int(input())\n",
    "    z = int(input())\n",
    "    n = int(input())\n",
    "    lst=[]\n",
    "    for i in range(x+1):\n",
    "        for j in range(y+1):\n",
    "            for k in range(z+1):\n",
    "                if i+j+k!=n:\n",
    "                    l1=[i,j,k]\n",
    "                    lst.append(l1)\n",
    "    print(lst)\n",
    "                    "
   ]
  },
  {
   "cell_type": "code",
   "execution_count": 9,
   "metadata": {},
   "outputs": [
    {
     "name": "stdout",
     "output_type": "stream",
     "text": [
      "5\n",
      "8 5 6 7\n",
      "7\n"
     ]
    }
   ],
   "source": [
    "# Question 2 -> Find Runner-Up Score\n",
    "\n",
    "if __name__ == '__main__':\n",
    "    n = int(input())\n",
    "    arr = list(map(int, input().split()))\n",
    "    arr = list(set(arr))\n",
    "    k = len(arr)\n",
    "    arr.sort(reverse = True)\n",
    "    print(arr[1])"
   ]
  },
  {
   "cell_type": "code",
   "execution_count": 1,
   "metadata": {},
   "outputs": [
    {
     "name": "stdout",
     "output_type": "stream",
     "text": [
      "2\n",
      "k\n",
      "20\n",
      "l\n",
      "15\n",
      "k\n"
     ]
    }
   ],
   "source": [
    "# Question 3 -> Nested List\n",
    "\n",
    "            \n",
    "if __name__ == '__main__':\n",
    "    records=[]\n",
    "    scores=[]\n",
    "    final=[]\n",
    "    n=int(input())\n",
    "    for _ in range(n):\n",
    "        name = input()\n",
    "        score = float(input())\n",
    "        records.append([name, score])\n",
    "        scores.append(score)\n",
    "    scores.sort()\n",
    "    for i in range(len(scores)):\n",
    "        if scores[i]<scores[i+1]:\n",
    "            x=scores[i+1]\n",
    "            break\n",
    "    for i in range(n):\n",
    "        if records[i][1]==x:\n",
    "            final.append(records[i][0])\n",
    "            final.sort()\n",
    "    for j in range(len(final)):\n",
    "        print(final[j])\n",
    "                  "
   ]
  },
  {
   "cell_type": "code",
   "execution_count": 3,
   "metadata": {},
   "outputs": [
    {
     "name": "stdout",
     "output_type": "stream",
     "text": [
      "2\n",
      "h 25 20 56\n",
      "k 48 24 96\n",
      "k\n",
      "56.00\n"
     ]
    }
   ],
   "source": [
    "# Question 4  ->Finding the Percentage\n",
    "\n",
    "if __name__ == '__main__':\n",
    "    n = int(input())\n",
    "    student_marks = {}\n",
    "    for _ in range(n):\n",
    "        name, *line = input().split()\n",
    "        scores = list(map(float, line))\n",
    "        student_marks[name] = scores\n",
    "    query_name = input()\n",
    "    query_scores = student_marks[query_name]\n",
    "    print(\"{0:.2f}\".format(sum(query_scores)/(len(query_scores))))"
   ]
  },
  {
   "cell_type": "code",
   "execution_count": 2,
   "metadata": {},
   "outputs": [
    {
     "name": "stdout",
     "output_type": "stream",
     "text": [
      "2\n",
      "append 5\n",
      "print\n",
      "[5]\n"
     ]
    }
   ],
   "source": [
    "# Question 5   -> Lists\n",
    "\n",
    "if __name__ == '__main__':\n",
    "    N = int(input())\n",
    "    L = []\n",
    "    for i in range(N):\n",
    "        args = input().split(\" \")\n",
    "        if args[0] == \"append\":\n",
    "            L.append(int(args[1]))\n",
    "        elif args[0] == \"insert\":\n",
    "            L.insert(int(args[1]), int(args[2]))\n",
    "        elif args[0] == \"remove\":\n",
    "            L.remove(int(args[1]))\n",
    "        elif args[0] == \"pop\":\n",
    "            L.pop()\n",
    "        elif args[0] == \"sort\":\n",
    "            L.sort()\n",
    "        elif args[0] == \"reverse\":\n",
    "            L.reverse()\n",
    "        elif args[0] == \"print\":\n",
    "            print(L)"
   ]
  },
  {
   "cell_type": "code",
   "execution_count": 3,
   "metadata": {},
   "outputs": [
    {
     "name": "stdout",
     "output_type": "stream",
     "text": [
      "2\n",
      "1 2\n",
      "3713081631934410656\n"
     ]
    }
   ],
   "source": [
    "# Question 6   -> Tuples\n",
    "\n",
    "if __name__ == '__main__':\n",
    "    n = int(input())\n",
    "    integer_list = list(map(int, input().split()))\n",
    "    t = tuple(int(i) for i in integer_list)\n",
    "    print(hash(t))"
   ]
  },
  {
   "cell_type": "code",
   "execution_count": 12,
   "metadata": {},
   "outputs": [
    {
     "name": "stdout",
     "output_type": "stream",
     "text": [
      "5\n",
      "120 154 154 178 196\n",
      "162.0\n"
     ]
    }
   ],
   "source": [
    "# Question 7  ->Introduction to sets\n",
    "\n",
    "def average(array):\n",
    "    s = set(array)\n",
    "    n = len(s)\n",
    "    avg = sum(s)/n\n",
    "    return avg    \n",
    "if __name__ == '__main__':\n",
    "    n = int(input())\n",
    "    arr = list(map(int, input().split()))\n",
    "    result = average(arr)\n",
    "    print(result)"
   ]
  },
  {
   "cell_type": "code",
   "execution_count": 31,
   "metadata": {},
   "outputs": [
    {
     "name": "stdout",
     "output_type": "stream",
     "text": [
      "3 2\n",
      "1 2 3\n",
      "1 2\n",
      "2 4\n",
      "1\n"
     ]
    }
   ],
   "source": [
    "# Question 8 -> No Idea!\n",
    "\n",
    "# Enter your code here. Read input from STDIN. Print output to STDOUT\n",
    "\n",
    "n,m = map(int, input().split())\n",
    "arr = map(int, input().split())\n",
    "A = set(list(map(int, input().split())))\n",
    "B = set(list(map(int, input().split())))\n",
    "s= 0\n",
    "t=0\n",
    "for i in arr:\n",
    "    if i in B:\n",
    "        t+=1\n",
    "    if i in A:\n",
    "        s+=1\n",
    "happy = s-t\n",
    "print(happy)"
   ]
  },
  {
   "cell_type": "code",
   "execution_count": 35,
   "metadata": {},
   "outputs": [
    {
     "name": "stdout",
     "output_type": "stream",
     "text": [
      "4\n",
      "1 2 4 -5\n",
      "4\n",
      "2 -5\n",
      "1\n",
      "4\n"
     ]
    }
   ],
   "source": [
    "# Questiuon 9  -> Symetric Difference\n",
    "\n",
    "n = int(input())\n",
    "a = set(list(map(int, input().split())))\n",
    "m = int(input())\n",
    "b = set(list(map(int, input().split())))\n",
    "arr = list(a.symmetric_difference(b))\n",
    "arr.sort()\n",
    "for i in range(len(arr)):\n",
    "    print(arr[i])"
   ]
  },
  {
   "cell_type": "code",
   "execution_count": 36,
   "metadata": {},
   "outputs": [
    {
     "name": "stdout",
     "output_type": "stream",
     "text": [
      "4\n",
      "uk\n",
      "us\n",
      "uk\n",
      "in\n",
      "3\n"
     ]
    }
   ],
   "source": [
    "# Question 10 ->set.add()\n",
    "\n",
    "n = int(input())\n",
    "lst = []\n",
    "for i in range(n):\n",
    "    lst.append(input())\n",
    "arr = set(lst)\n",
    "print(len(arr))"
   ]
  },
  {
   "cell_type": "code",
   "execution_count": 39,
   "metadata": {},
   "outputs": [
    {
     "name": "stdout",
     "output_type": "stream",
     "text": [
      "5\n",
      "1 2 3 4 5\n",
      "3\n",
      "pop\n",
      "remove 4\n",
      "discard 4\n",
      "10\n"
     ]
    }
   ],
   "source": [
    "# Question 11  ->set.discard, set.remove, set.pop\n",
    "\n",
    "n = int(input())\n",
    "s = set(map(int, input().split()))\n",
    "N = int(input())\n",
    "def sum(s):\n",
    "    sum = 0\n",
    "    for i in s:\n",
    "        sum += i\n",
    "    return sum\n",
    "for i in range(N):\n",
    "    args = input().split(\" \")\n",
    "    if args[0] == \"pop\":\n",
    "        s.pop()\n",
    "    elif args[0] == \"remove\":\n",
    "        s.remove(int(args[1]))\n",
    "    elif args[0] == \"discard\":\n",
    "        s.discard(int(args[1]))\n",
    "print(sum(s))"
   ]
  },
  {
   "cell_type": "code",
   "execution_count": 3,
   "metadata": {},
   "outputs": [
    {
     "name": "stdout",
     "output_type": "stream",
     "text": [
      "4\n",
      "1 2 3 4\n",
      "4\n",
      "1 2 4 5\n",
      "5\n"
     ]
    }
   ],
   "source": [
    "# Question 12  ->set.union operation\n",
    "\n",
    "n = int(input())\n",
    "s1 = set(list(map(int, input().split())))\n",
    "m = int(input())\n",
    "s2 = set(list(map(int, input().split())))\n",
    "s3=s1.union(s2)\n",
    "print(len(s3))"
   ]
  },
  {
   "cell_type": "code",
   "execution_count": 4,
   "metadata": {},
   "outputs": [
    {
     "name": "stdout",
     "output_type": "stream",
     "text": [
      "4 \n",
      "1 2 3 4\n",
      "4\n",
      "1 5 4 8\n",
      "2\n"
     ]
    }
   ],
   "source": [
    "# Question 13 -> set.intersection operation\n",
    "\n",
    "n = int(input())\n",
    "s1 = set(list(map(int, input().split())))\n",
    "m = int(input())\n",
    "s2 = set(list(map(int, input().split())))\n",
    "\n",
    "s3 = s1.intersection(s2)\n",
    "print(len(s3))"
   ]
  },
  {
   "cell_type": "code",
   "execution_count": 5,
   "metadata": {},
   "outputs": [
    {
     "name": "stdout",
     "output_type": "stream",
     "text": [
      "4 \n",
      "1 2 3 4 \n",
      "4\n",
      "1 2 5 8\n",
      "2\n"
     ]
    }
   ],
   "source": [
    "# Question 14  -> set.difference operation\n",
    "\n",
    "n = int(input())\n",
    "s1 = set(list(map(int, input().split())))\n",
    "m = int(input())\n",
    "s2 = set(list(map(int, input().split())))\n",
    "s3 = s1.difference(s2)\n",
    "print(len(s3))"
   ]
  },
  {
   "cell_type": "code",
   "execution_count": 6,
   "metadata": {},
   "outputs": [
    {
     "name": "stdout",
     "output_type": "stream",
     "text": [
      "4\n",
      "1 2 3 4\n",
      "4\n",
      "1 2 4 8\n",
      "2\n"
     ]
    }
   ],
   "source": [
    "# Question 15  ->set.symmetric_difference operation\n",
    "\n",
    "# Enter your code here. Read input from STDIN. Print output to STDOUT\n",
    "n = int(input())\n",
    "s1 = set(list(map(int, input().split())))\n",
    "m = int(input())\n",
    "s2 = set(list(map(int, input().split())))\n",
    "s3 = s1.symmetric_difference(s2)\n",
    "print(len(s3))"
   ]
  },
  {
   "cell_type": "code",
   "execution_count": 19,
   "metadata": {},
   "outputs": [
    {
     "name": "stdout",
     "output_type": "stream",
     "text": [
      "4\n",
      "1 23 4 5\n",
      "1\n",
      "update 4\n",
      "24 5 8 7\n",
      "72\n"
     ]
    }
   ],
   "source": [
    "# Question 16 ->set Mutations\n",
    "\n",
    "n = int(input())\n",
    "s1 = set(list(map(int, input().split())))\n",
    "m = int(input())\n",
    "for i in range(m):\n",
    "    cmd, _ = input().split()\n",
    "    k = set(map(int, input().split()))\n",
    "    if cmd == \"update\":\n",
    "        s1.update(k)\n",
    "    elif cmd == \"intersection_update\":\n",
    "        s1.intersection_update(k)\n",
    "    elif cmd == \"symmetric_difference_update\":\n",
    "        s1.symmetric_difference_update(k)\n",
    "    elif cmd == \"difference_update\":\n",
    "        s1.difference_update(k)\n",
    "sum = 0\n",
    "for i in s1:\n",
    "    sum+=i\n",
    "print(sum)"
   ]
  },
  {
   "cell_type": "code",
   "execution_count": 23,
   "metadata": {},
   "outputs": [
    {
     "name": "stdout",
     "output_type": "stream",
     "text": [
      "5\n",
      "1 2 3 6 5 4 4 2 5 3 6 1 6 5 3 2 4 1 2 5 1 4 3 6 8 4 3 1 5 6 2 \n",
      "8\n"
     ]
    }
   ],
   "source": [
    "# Question 17 -> The Captain's Room\n",
    "def sum(s):\n",
    "    sum = 0\n",
    "    for i in s:\n",
    "        sum += i\n",
    "    return sum\n",
    "\n",
    "n = int(input())\n",
    "lst = list(map(int, input().split()))\n",
    "s1 = set(lst)\n",
    "print(((sum(s1)*n)-(sum(lst)))//(n-1))"
   ]
  },
  {
   "cell_type": "code",
   "execution_count": 24,
   "metadata": {},
   "outputs": [
    {
     "name": "stdout",
     "output_type": "stream",
     "text": [
      "2\n",
      "2\n",
      "1 2\n",
      "2\n",
      "1 2\n",
      "True\n",
      "3\n",
      "1 2 3\n",
      "5\n",
      "1 2 3 4 5\n",
      "True\n"
     ]
    }
   ],
   "source": [
    "# Question 18  -> check Subset\n",
    "\n",
    "n = int(input())\n",
    "for i in range(n):\n",
    "    a = int(input())\n",
    "    s1 = set(list(map(int, input().split())))\n",
    "    b = int(input())\n",
    "    s2 = set(list(map(int, input().split())))\n",
    "    print(s1.issubset(s2))"
   ]
  },
  {
   "cell_type": "code",
   "execution_count": 27,
   "metadata": {},
   "outputs": [
    {
     "name": "stdout",
     "output_type": "stream",
     "text": [
      "1 2 3 4 5 6\n",
      "2\n",
      "1 2 3 4 \n",
      "1 5 6 48\n",
      "False\n"
     ]
    }
   ],
   "source": [
    "# Question 19  -> check Strict Superset\n",
    "\n",
    "A = set(input().split())\n",
    "n = int(input())\n",
    "for _ in range(n):\n",
    "    if not A.issuperset(set(input().split())):\n",
    "        print(False)\n",
    "        break\n",
    "else:\n",
    "    print(True)"
   ]
  },
  {
   "cell_type": "code",
   "execution_count": null,
   "metadata": {},
   "outputs": [],
   "source": []
  }
 ],
 "metadata": {
  "kernelspec": {
   "display_name": "Python 3",
   "language": "python",
   "name": "python3"
  },
  "language_info": {
   "codemirror_mode": {
    "name": "ipython",
    "version": 3
   },
   "file_extension": ".py",
   "mimetype": "text/x-python",
   "name": "python",
   "nbconvert_exporter": "python",
   "pygments_lexer": "ipython3",
   "version": "3.7.6"
  }
 },
 "nbformat": 4,
 "nbformat_minor": 4
}
