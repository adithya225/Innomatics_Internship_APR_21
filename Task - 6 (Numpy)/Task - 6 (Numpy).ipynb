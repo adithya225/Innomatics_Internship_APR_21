{
 "cells": [
  {
   "cell_type": "code",
   "execution_count": 1,
   "id": "c8d45db4",
   "metadata": {},
   "outputs": [
    {
     "name": "stdout",
     "output_type": "stream",
     "text": [
      "1 2 3 4 -8 -10\n",
      "[-10.  -8.   4.   3.   2.   1.]\n"
     ]
    }
   ],
   "source": [
    "# Question 1 -->Arrays\n",
    "\n",
    "import numpy\n",
    "\n",
    "def arrays(arr):\n",
    "    # complete this function\n",
    "    # use numpy.array\n",
    "    b = numpy.array(arr[::-1],float)\n",
    "   \n",
    "    return b\n",
    "\n",
    "arr = input().strip().split(' ')\n",
    "result = arrays(arr)\n",
    "print(result)"
   ]
  },
  {
   "cell_type": "code",
   "execution_count": 2,
   "id": "6baf46a1",
   "metadata": {},
   "outputs": [
    {
     "name": "stdout",
     "output_type": "stream",
     "text": [
      "1 2 3 4 5 6 7 8 9\n",
      "[[1 2 3]\n",
      " [4 5 6]\n",
      " [7 8 9]]\n"
     ]
    }
   ],
   "source": [
    "# Question 2  -->Shape and Reshape\n",
    "\n",
    "import numpy as np\n",
    "print(np.array(input().split(),int).reshape(3,3))"
   ]
  },
  {
   "cell_type": "code",
   "execution_count": 7,
   "id": "43c032c8",
   "metadata": {},
   "outputs": [
    {
     "name": "stdout",
     "output_type": "stream",
     "text": [
      "2 2\n",
      "1 2\n",
      "3 4\n",
      "[[1 3]\n",
      " [2 4]]\n",
      "[1 2 3 4]\n"
     ]
    }
   ],
   "source": [
    "# Question 3  --> Transpose and Flatten\n",
    "import numpy\n",
    "\n",
    "n, m = map(int, input().split())\n",
    "array = numpy.array([input().strip().split() for _ in range(n)], int)\n",
    "print (array.transpose())\n",
    "print (array.flatten())"
   ]
  },
  {
   "cell_type": "code",
   "execution_count": 8,
   "id": "283b6de5",
   "metadata": {},
   "outputs": [
    {
     "name": "stdout",
     "output_type": "stream",
     "text": [
      "4 3 2\n",
      "1 2\n",
      "1 2\n",
      "1 2\n",
      "1 2\n",
      "3 4\n",
      "3 4\n",
      "3 4\n",
      "[[1 2]\n",
      " [1 2]\n",
      " [1 2]\n",
      " [1 2]\n",
      " [3 4]\n",
      " [3 4]\n",
      " [3 4]]\n"
     ]
    }
   ],
   "source": [
    "# Question 4  -->concatenate\n",
    "\n",
    "import numpy as np\n",
    "a, b, c = map(int,input().split())\n",
    "arrA = np.array([input().split() for _ in range(a)],int)\n",
    "arrB = np.array([input().split() for _ in range(b)],int)\n",
    "print(np.concatenate((arrA, arrB), axis = 0))"
   ]
  },
  {
   "cell_type": "code",
   "execution_count": 9,
   "id": "0b435758",
   "metadata": {},
   "outputs": [
    {
     "name": "stdout",
     "output_type": "stream",
     "text": [
      "3 3 3\n",
      "[[[0 0 0]\n",
      "  [0 0 0]\n",
      "  [0 0 0]]\n",
      "\n",
      " [[0 0 0]\n",
      "  [0 0 0]\n",
      "  [0 0 0]]\n",
      "\n",
      " [[0 0 0]\n",
      "  [0 0 0]\n",
      "  [0 0 0]]]\n",
      "[[[1 1 1]\n",
      "  [1 1 1]\n",
      "  [1 1 1]]\n",
      "\n",
      " [[1 1 1]\n",
      "  [1 1 1]\n",
      "  [1 1 1]]\n",
      "\n",
      " [[1 1 1]\n",
      "  [1 1 1]\n",
      "  [1 1 1]]]\n"
     ]
    },
    {
     "name": "stderr",
     "output_type": "stream",
     "text": [
      "C:\\Users\\HP\\anaconda3\\envs\\Project1\\lib\\site-packages\\ipykernel_launcher.py:6: DeprecationWarning: `np.int` is a deprecated alias for the builtin `int`. To silence this warning, use `int` by itself. Doing this will not modify any behavior and is safe. When replacing `np.int`, you may wish to use e.g. `np.int64` or `np.int32` to specify the precision. If you wish to review your current use, check the release note link for additional information.\n",
      "Deprecated in NumPy 1.20; for more details and guidance: https://numpy.org/devdocs/release/1.20.0-notes.html#deprecations\n",
      "  \n",
      "C:\\Users\\HP\\anaconda3\\envs\\Project1\\lib\\site-packages\\ipykernel_launcher.py:7: DeprecationWarning: `np.int` is a deprecated alias for the builtin `int`. To silence this warning, use `int` by itself. Doing this will not modify any behavior and is safe. When replacing `np.int`, you may wish to use e.g. `np.int64` or `np.int32` to specify the precision. If you wish to review your current use, check the release note link for additional information.\n",
      "Deprecated in NumPy 1.20; for more details and guidance: https://numpy.org/devdocs/release/1.20.0-notes.html#deprecations\n",
      "  import sys\n"
     ]
    }
   ],
   "source": [
    "# Question 5 --> Zeros and Ones\n",
    "\n",
    "import numpy\n",
    "\n",
    "n = tuple(map(int,input().split()))\n",
    "print(numpy.zeros(n, dtype = numpy.int))\n",
    "print(numpy.ones(n, dtype = numpy.int))       \n"
   ]
  },
  {
   "cell_type": "code",
   "execution_count": 10,
   "id": "284f980a",
   "metadata": {},
   "outputs": [
    {
     "name": "stdout",
     "output_type": "stream",
     "text": [
      "3 3\n",
      "[[ 1.  0.  0.]\n",
      " [ 0.  1.  0.]\n",
      " [ 0.  0.  1.]]\n"
     ]
    }
   ],
   "source": [
    "# QUestion 6  -->Eye and Identity\n",
    "\n",
    "import numpy\n",
    "\n",
    "n,m = map(int,input().strip().split())\n",
    "print(str(numpy.eye(n, m, k=0)).replace('1',' 1').replace('0',' 0'))"
   ]
  },
  {
   "cell_type": "code",
   "execution_count": 11,
   "id": "2a23d631",
   "metadata": {},
   "outputs": [
    {
     "name": "stdout",
     "output_type": "stream",
     "text": [
      "1 4\n",
      "1 2 4 5\n",
      "1 2 4 8\n",
      "[[ 2  4  8 13]]\n",
      "[[ 0  0  0 -3]]\n",
      "[[ 1  4 16 40]]\n",
      "[[1 1 1 0]]\n",
      "[[0 0 0 5]]\n",
      "[[     1      4    256 390625]]\n"
     ]
    }
   ],
   "source": [
    "# Question 7  -->Array Mathemetics\n",
    "\n",
    "import numpy\n",
    "n,m = map(int, input().strip().split())\n",
    "a, b = (numpy.array([input().split() for i in range(n)], dtype=int) for _ in range(2))\n",
    "\n",
    "print(numpy.add(a, b))\n",
    "print(numpy.subtract(a, b))\n",
    "print(numpy.multiply(a, b))\n",
    "print(a//b)\n",
    "print(numpy.mod(a, b))\n",
    "print(numpy.power(a, b))\n"
   ]
  },
  {
   "cell_type": "code",
   "execution_count": 12,
   "id": "8e431b1c",
   "metadata": {},
   "outputs": [
    {
     "name": "stdout",
     "output_type": "stream",
     "text": [
      "1.1 2.2 3.3 4.4 5.5 6.6 7.7 8.8 9.9\n",
      "[ 1.  2.  3.  4.  5.  6.  7.  8.  9.]\n",
      "[  2.   3.   4.   5.   6.   7.   8.   9.  10.]\n",
      "[  1.   2.   3.   4.   6.   7.   8.   9.  10.]\n"
     ]
    }
   ],
   "source": [
    "# Question 8  -->Floor, ceil and Rint\n",
    "\n",
    "import numpy\n",
    "numpy.set_printoptions(legacy='1.13')\n",
    "a = numpy.array(input().split(),float)\n",
    "print(numpy.floor(a))\n",
    "print(numpy.ceil(a))  \n",
    "print(numpy.rint(a))"
   ]
  },
  {
   "cell_type": "code",
   "execution_count": 13,
   "id": "8fb819fc",
   "metadata": {},
   "outputs": [
    {
     "name": "stdout",
     "output_type": "stream",
     "text": [
      "2 2\n",
      "1 2\n",
      "3 4\n",
      "24\n"
     ]
    }
   ],
   "source": [
    "# Question 9 --> Sum and Prod\n",
    "\n",
    "import numpy\n",
    "n,m = map(int, input().split())\n",
    "A = numpy.array([input().split() for i in range(n)],int)\n",
    "print(numpy.prod(numpy.sum(A, axis=0), axis=0))\n"
   ]
  },
  {
   "cell_type": "code",
   "execution_count": 14,
   "id": "7800f8cf",
   "metadata": {},
   "outputs": [
    {
     "name": "stdout",
     "output_type": "stream",
     "text": [
      "4 2\n",
      "3 5\n",
      "4 3\n",
      "1 2\n",
      "1 8\n",
      "3\n"
     ]
    }
   ],
   "source": [
    "# Question 10  -->Min and max\n",
    "\n",
    "import numpy as np\n",
    "print(np.max(np.min(np.array([input().split() for _ in range(int(input().split()[0]))],int),axis=1)))"
   ]
  },
  {
   "cell_type": "code",
   "execution_count": 15,
   "id": "cfa39ddb",
   "metadata": {},
   "outputs": [
    {
     "name": "stdout",
     "output_type": "stream",
     "text": [
      "2 2\n",
      "1 2\n",
      "3 4\n",
      "[ 1.5  3.5]\n",
      "[ 1.  1.]\n",
      "1.11803398875\n"
     ]
    }
   ],
   "source": [
    "# Question 11  -->Mean, Var and Std\n",
    "\n",
    "import numpy\n",
    "\n",
    "n,m = map(int,input().split())\n",
    "arr = []\n",
    "for i in range(n):\n",
    "    m = list(map(int, input().split()))\n",
    "    arr.append(m)\n",
    "arr = numpy.array(arr)\n",
    "\n",
    "mean = numpy.mean(arr, axis = 1)\n",
    "var = numpy.var(arr, axis = 0)\n",
    "std = numpy.std(arr)\n",
    "\n",
    "print(mean)\n",
    "print(var)\n",
    "\n",
    "rnd = numpy.around(std, 11)\n",
    "print(rnd)"
   ]
  },
  {
   "cell_type": "code",
   "execution_count": 16,
   "id": "416ebf9b",
   "metadata": {},
   "outputs": [
    {
     "name": "stdout",
     "output_type": "stream",
     "text": [
      "2\n",
      "1 2\n",
      "3 4\n",
      "1 2\n",
      "3 4\n",
      "[[ 7 10]\n",
      " [15 22]]\n"
     ]
    }
   ],
   "source": [
    "# Question 12 -->Dot and Cross\n",
    "\n",
    "import numpy\n",
    "n = int(input())\n",
    "a = numpy.array([list(map(int,input().split()))for i in range(n)])\n",
    "b = numpy.array([list(map(int,input().split()))for i in range(n)])\n",
    "print(numpy.dot(a,b))\n"
   ]
  },
  {
   "cell_type": "code",
   "execution_count": 17,
   "id": "23e4b649",
   "metadata": {},
   "outputs": [
    {
     "name": "stdout",
     "output_type": "stream",
     "text": [
      "0 1\n",
      "2 3\n",
      "3\n",
      "[[0 0]\n",
      " [2 3]]\n"
     ]
    }
   ],
   "source": [
    "# Question 13  -->Inner and Outer\n",
    "\n",
    "import numpy\n",
    "\n",
    "arr1=numpy.array([list(map(int,input().split()))])\n",
    "arr2=numpy.array([list(map(int,input().split()))])\n",
    "print(numpy.inner(arr1,arr2)[0][0])\n",
    "print(numpy.outer(arr1,arr2))\n"
   ]
  },
  {
   "cell_type": "code",
   "execution_count": 18,
   "id": "eb312288",
   "metadata": {},
   "outputs": [
    {
     "name": "stdout",
     "output_type": "stream",
     "text": [
      "1.1 2 4 5\n",
      "5\n",
      "212.5\n"
     ]
    }
   ],
   "source": [
    "# Question 14  -->Polynomials\n",
    "\n",
    "import numpy\n",
    "\n",
    "b = list(map(float,input().split()))\n",
    "a = input()\n",
    "print(numpy.polyval(b,int(a)))"
   ]
  },
  {
   "cell_type": "code",
   "execution_count": 21,
   "id": "3189cd02",
   "metadata": {},
   "outputs": [
    {
     "name": "stdout",
     "output_type": "stream",
     "text": [
      "2\n",
      "1.1 1.1\n",
      "1.1 1.1\n",
      "0.0\n"
     ]
    }
   ],
   "source": [
    "# Question 15  -->Linear Algebra\n",
    "\n",
    "import numpy\n",
    "n=int(input())\n",
    "a=numpy.array([input().split() for _ in range(n)],float)\n",
    "numpy.set_printoptions(legacy='1.13')\n",
    "print(numpy.linalg.det(a))\n"
   ]
  },
  {
   "cell_type": "code",
   "execution_count": null,
   "id": "2688d548",
   "metadata": {},
   "outputs": [],
   "source": []
  }
 ],
 "metadata": {
  "kernelspec": {
   "display_name": "Python 3",
   "language": "python",
   "name": "python3"
  },
  "language_info": {
   "codemirror_mode": {
    "name": "ipython",
    "version": 3
   },
   "file_extension": ".py",
   "mimetype": "text/x-python",
   "name": "python",
   "nbconvert_exporter": "python",
   "pygments_lexer": "ipython3",
   "version": "3.7.10"
  }
 },
 "nbformat": 4,
 "nbformat_minor": 5
}
