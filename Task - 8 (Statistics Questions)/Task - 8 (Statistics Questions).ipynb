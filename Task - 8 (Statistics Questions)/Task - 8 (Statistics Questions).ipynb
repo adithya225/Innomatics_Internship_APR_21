{
 "cells": [
  {
   "cell_type": "code",
   "execution_count": 1,
   "metadata": {},
   "outputs": [
    {
     "name": "stdout",
     "output_type": "stream",
     "text": [
      "1.09 2\n",
      "0.358\n"
     ]
    }
   ],
   "source": [
    "# Question 1 --> Day 4:  Binomial Distribution I\n",
    "\n",
    "def fact(a):\n",
    "  fa=1\n",
    "  for i in range(1,a+1):\n",
    "    fa=fa*i\n",
    "  return fa\n",
    "def comb(a,b):\n",
    "  m=fact(a)\n",
    "  n=fact(b)\n",
    "  r=fact(a-b)\n",
    "  comb=m/(n*r)\n",
    "  return comb\n",
    "b,g=map(float,input().split())\n",
    "n=6\n",
    "r=3\n",
    "p_b=b/(b+g)\n",
    "p_g=g/(b+g)\n",
    "\n",
    "fact_ans=0\n",
    "for i in range(r,n+1):\n",
    "  fact_ans+=comb(n,i)*pow(p_b,i)*pow(p_g,(n-i))\n",
    "print(\"%.3f\" % fact_ans)"
   ]
  },
  {
   "cell_type": "code",
   "execution_count": 2,
   "metadata": {},
   "outputs": [
    {
     "name": "stdout",
     "output_type": "stream",
     "text": [
      "12 10\n",
      "0.891\n",
      "0.342\n"
     ]
    }
   ],
   "source": [
    "# Question 2 --> Day 4: Binomial Distribution II\n",
    "\n",
    "def fact(a):\n",
    "  fa=1\n",
    "  for i in range(1,a+1):\n",
    "    fa=fa*i\n",
    "  return fa\n",
    "\n",
    "def comb(a,b):  \n",
    "  m=fact(a)\n",
    "  n=fact(b)\n",
    "  r=fact(a-b)\n",
    "  comb=m/(n*r)\n",
    "  return comb\n",
    "f,g=map(int,input().split())\n",
    "g=g\n",
    "d=2\n",
    "p_s=f/100\n",
    "p_g=1-(f/100)\n",
    "fact_ans=0\n",
    "fact_ans2=0\n",
    "for i in range(d,g+1):\n",
    "  fact_ans+=comb(g,i)*pow(p_s,i)*pow(p_g,(g-i))\n",
    "for i in range(0,d+1):\n",
    "    fact_ans2+=comb(g,i)*pow(p_s,i)*pow(p_g,(g-i))\n",
    "print(\"%.3f\" % fact_ans2)\n",
    "print(\"%.3f\" % fact_ans)"
   ]
  },
  {
   "cell_type": "code",
   "execution_count": 3,
   "metadata": {},
   "outputs": [
    {
     "name": "stdout",
     "output_type": "stream",
     "text": [
      "20 2\n",
      "0.401\n",
      "0.341\n"
     ]
    }
   ],
   "source": [
    "# Question 3 --> Day 5: Normal Distribution I\n",
    "\n",
    "import math\n",
    "\n",
    "m,s=map(int,input().split())\n",
    "\n",
    "x=19.5\n",
    "y1=20 \n",
    "y2=22\n",
    "\n",
    "less_than=0.5*(1+math.erf((x-m)/(s*math.sqrt(2))))\n",
    "\n",
    "in_between=(0.5*(1+math.erf((y2-m)/(s*math.sqrt(2)))))-(0.5*(1+math.erf((y1-m)/(s*math.sqrt(2)))))\n",
    "\n",
    "print(\"%.3f\" % less_than)\n",
    "print(\"%.3f\" % in_between)"
   ]
  },
  {
   "cell_type": "code",
   "execution_count": 4,
   "metadata": {},
   "outputs": [
    {
     "name": "stdout",
     "output_type": "stream",
     "text": [
      "70 10\n",
      "15.87\n",
      "84.13\n",
      "15.87\n"
     ]
    }
   ],
   "source": [
    "# Question 4 --> Day 5: Normal Distribution II\n",
    "\n",
    "import math\n",
    "\n",
    "m,s=map(int,input().split())\n",
    "\n",
    "x=80\n",
    "y=60\n",
    "\n",
    "greater_than_80=(0.5*(1-math.erf((x-m)/(s*math.sqrt(2)))))*100\n",
    "\n",
    "greater_than_60=(0.5*(1-math.erf((y-m)/(s*math.sqrt(2)))))*100\n",
    "\n",
    "less_than_60=(0.5*(1+math.erf((y-m)/(s*math.sqrt(2)))))*100\n",
    "\n",
    "print(\"%.2f\" % greater_than_80)\n",
    "print(\"%.2f\" % greater_than_60)\n",
    "print(\"%.2f\" % less_than_60)"
   ]
  },
  {
   "cell_type": "code",
   "execution_count": 5,
   "metadata": {},
   "outputs": [
    {
     "name": "stdout",
     "output_type": "stream",
     "text": [
      "9800\n",
      "49\n",
      "205\n",
      "15\n",
      "0.0098\n"
     ]
    }
   ],
   "source": [
    "# Question 5 --> Day 6: The Central Limit Theorem I\n",
    "\n",
    "import math\n",
    "p=int(input())\n",
    "sample=int(input())\n",
    "m=int(input())\n",
    "sd=int(input())\n",
    "samle_sd=math.sqrt(sample)*sd\n",
    "mean_sample = m * sample\n",
    "def clf(p, mean, sd):\n",
    "  return 0.5 * (1 + math.erf((p - mean) / (sd * (2 ** 0.5))))\n",
    "print(round(clf(p, mean_sample, samle_sd), 4))"
   ]
  },
  {
   "cell_type": "code",
   "execution_count": 6,
   "metadata": {},
   "outputs": [
    {
     "name": "stdout",
     "output_type": "stream",
     "text": [
      "0.6915\n"
     ]
    }
   ],
   "source": [
    "# Question 6 --> Day 6: The Central limit Theorem II\n",
    "\n",
    "import math\n",
    "x = 250\n",
    "n = 100\n",
    "sampling_mean = 2.4\n",
    "sampling_stdev = 2.0\n",
    "stdev = sampling_stdev * math.sqrt(n)\n",
    "\n",
    "cdf = 0.5 * (1 + math.erf((x - sampling_mean * n) / (stdev * math.sqrt(2))))\n",
    "\n",
    "print(round(cdf,4))"
   ]
  },
  {
   "cell_type": "code",
   "execution_count": 7,
   "metadata": {},
   "outputs": [
    {
     "name": "stdout",
     "output_type": "stream",
     "text": [
      "100\n",
      "500\n",
      "80\n",
      "0.5\n",
      "0.8\n",
      "493.6\n",
      "506.4\n"
     ]
    }
   ],
   "source": [
    "# Question 7 --> Day 6: The Central limit theorem III\n",
    "\n",
    "from math import sqrt\n",
    "\n",
    "s = int(input())\n",
    "mean = int(input())\n",
    "std = int(input())\n",
    "interval = float(input())\n",
    "z = float(input())\n",
    "print(round(mean - (std / sqrt(s)) * z, 2))\n",
    "print(round(mean + (std / sqrt(s)) * z, 2))"
   ]
  },
  {
   "cell_type": "code",
   "execution_count": 8,
   "metadata": {},
   "outputs": [
    {
     "name": "stdout",
     "output_type": "stream",
     "text": [
      "10\n",
      "1 2.2 8 8 4.6 4 9 7 2 3\n",
      "2 4 9 6 2 7 8 2.5 6 3.5 2\n",
      "0.497\n"
     ]
    }
   ],
   "source": [
    "# Question 8  --> Day 7: pearson Correlation Coefficient I\n",
    "\n",
    "import math\n",
    "\n",
    "data_size=int(input())\n",
    "X=list(map(float,input().split()))\n",
    "Y=list(map(float,input().split()))\n",
    "uX=sum(X)/data_size\n",
    "\n",
    "uY=sum(Y)/data_size\n",
    "\n",
    "\n",
    "\n",
    "sigma_X=(sum([(i - uX)**2 for i in X]) /data_size)**(1/2)\n",
    "sigma_Y=(sum([(i - uY)**2 for i in Y]) /data_size)**(1/2)\n",
    "\n",
    "\n",
    " \n",
    "cov=sum([(X[i]-uX)*(Y[i]-uY) for i in range(data_size)])\n",
    "\n",
    "pearson_corr=cov/(data_size*sigma_X*sigma_Y)\n",
    "\n",
    "print(\"%.3f\" % pearson_corr)"
   ]
  },
  {
   "cell_type": "code",
   "execution_count": 9,
   "metadata": {},
   "outputs": [
    {
     "name": "stdout",
     "output_type": "stream",
     "text": [
      "95 85\n",
      "90 80\n",
      "85 75\n",
      "85 70\n",
      "90 75\n",
      "66.071\n"
     ]
    }
   ],
   "source": [
    "# Question 9  --> Day 8: Least Square Regression Line\n",
    "\n",
    "n = 5\n",
    "xy = [map(int, input().split()) for _ in range(n)]\n",
    "sx, sy, sx2, sxy = map(sum, zip(*[(x, y, x**2, x * y) for x, y in xy]))\n",
    "b = (n * sxy - sx * sy) / (n * sx2 - sx**2)\n",
    "a = (sy / n) - b * (sx / n)\n",
    "print('{:.3f}'.format(a + b * 80))"
   ]
  },
  {
   "cell_type": "code",
   "execution_count": 10,
   "metadata": {},
   "outputs": [
    {
     "name": "stdout",
     "output_type": "stream",
     "text": [
      "2 7\n",
      "0.18 0.89 109.85\n",
      "1.0 0.26 155.72\n",
      "0.92 0.11 137.66\n",
      "0.07 0.37 76.17\n",
      "0.85 0.16 139.75\n",
      "0.99 0.41 162.6\n",
      "0.87 0.47 151.77\n",
      "4\n",
      "0.49 0.18\n",
      "0.57 0.83\n",
      "0.56 0.64\n",
      "0.76 0.18\n",
      "105.21\n",
      "142.67\n",
      "132.94\n",
      "129.7\n"
     ]
    }
   ],
   "source": [
    "# Question 10  --> Day 9: Multiple Linear Regression\n",
    "\n",
    "from sklearn import linear_model\n",
    "\n",
    "def solve(y, x, x_pred):\n",
    "  lm = linear_model.LinearRegression()\n",
    "  lm.fit(x, y)\n",
    "  y_pred = lm.predict(x_pred)\n",
    "  return y_pred\n",
    "\n",
    "def main():\n",
    "  m, n = map(int, input().strip().split())\n",
    "  y = []; x = []; x_pred = []\n",
    "  for _ in range(n):\n",
    "    *features, y_val = map(float, input().strip().split())\n",
    "    x.append(features)\n",
    "    y.append(y_val)\n",
    "\n",
    "  for _ in range(int(input())):\n",
    "    features = list(map(float, input().strip().split()))\n",
    "    x_pred.append(features)\n",
    "  \n",
    "  answer = solve(y, x, x_pred)\n",
    "  for num in answer:\n",
    "    print(round(num, 2))\n",
    "\n",
    "if __name__ == \"__main__\":\n",
    "  main()"
   ]
  },
  {
   "cell_type": "code",
   "execution_count": null,
   "metadata": {},
   "outputs": [],
   "source": []
  }
 ],
 "metadata": {
  "kernelspec": {
   "display_name": "Python 3",
   "language": "python",
   "name": "python3"
  },
  "language_info": {
   "codemirror_mode": {
    "name": "ipython",
    "version": 3
   },
   "file_extension": ".py",
   "mimetype": "text/x-python",
   "name": "python",
   "nbconvert_exporter": "python",
   "pygments_lexer": "ipython3",
   "version": "3.8.5"
  }
 },
 "nbformat": 4,
 "nbformat_minor": 4
}
