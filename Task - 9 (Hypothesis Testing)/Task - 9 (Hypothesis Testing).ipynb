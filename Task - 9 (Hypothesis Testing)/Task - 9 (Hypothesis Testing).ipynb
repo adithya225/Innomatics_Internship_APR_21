{
 "cells": [
  {
   "attachments": {
    "image.png": {
     "image/png": "[encoded data removed]"
    }
   },
   "cell_type": "markdown",
   "metadata": {},
   "source": [
    "![image.png](attachment:image.png)"
   ]
  },
  {
   "cell_type": "markdown",
   "metadata": {},
   "source": [
    "<div style=\"text-align: right\"> $ \\large \\rightarrow V \\ Adithya \\ Sai $ </div>"
   ]
  },
  {
   "cell_type": "markdown",
   "metadata": {},
   "source": [
    "## <b><font color = 'blue'> Import all Libraries and create t_score Function </font></b>"
   ]
  },
  {
   "cell_type": "code",
   "execution_count": null,
   "metadata": {},
   "outputs": [],
   "source": [
    "import numpy as np\n",
    "import matplotlib.pyplot as plt\n",
    "from scipy.stats import t,norm"
   ]
  },
  {
   "cell_type": "code",
   "execution_count": null,
   "metadata": {},
   "outputs": [],
   "source": [
    "def t_score(sample_size,sample_mean,population_mean,sample_std):\n",
    "    numerator = sample_mean - population_mean\n",
    "    denominator = sample_std / sample_size**0.5\n",
    "    return numerator/denominator"
   ]
  },
  {
   "cell_type": "markdown",
   "metadata": {},
   "source": [
    "<b> Q-1: Pista House selling Hyderabadi Chicken Dum biryani claims that each parcel packet has 500 grams of biryani \n",
    "    (also mentioned on the label of packet). You are sceptic of their claims and believe that on average each \n",
    "    packet does not contain 500 grams of biryani. How do you prove your claim?</b>\n",
    "    \n",
    "    \n",
    "\n",
    "$\\ Step - 1 :\\\\\n",
    "\\ Alternate \\ hypothesis\\ (bold\\ claim) :$$$\\ {H1} = Each\\ packet\\ does\\ not\\ contain\\ 500\\ grams $$$\\ Null \\ hypothesis\\ (status\\ quo) : $$$\\ {H0} = \\ each \\ packet \\ contains \\ 500 grams\\ $$\n",
    "\n",
    "$\\ Step-2:\\\\\n",
    "\\bullet\\ Collection\\ of\\ sample\\ size :n=10\\\\ $$$ [490,220,370,400,495,510,398,508,476] $$$ \\bullet\\ Compute\\ sample\\ mean: $$$ \\Large \\bar{x} = ?$$\n",
    "\n",
    "$\\ Step-3: \\\\\n",
    "\\ Compute\\ test\\ statistic\\ (as\\ population\\ std.dev\\ is\\ not\\ given):\\\\ $$$ \\Large t = \\frac{\\bar{x}-\\mu_{\\bar{x}}}{\\frac{\\ S}{\\sqrt{n}}} $$\n",
    "\n",
    "$\\ Step-4: \\\\\n",
    "\\ Decide\\ \\alpha\\ or\\ significance\\ level.$\n",
    "\n",
    "$\\ Step-5.1: \\\\\n",
    "\\ Calculate\\ tailed\\ t-test\\ ?$$$ Reject\\ Null\\ hypothesis\\ or\\ not\\ ? $$$\\ Step-5.2: \\\\\n",
    "\\ Calculate\\ p-value\\ ?$\n"
   ]
  },
  {
   "cell_type": "code",
   "execution_count": null,
   "metadata": {},
   "outputs": [],
   "source": [
    "sample = [490,220,370,400,495,510,398,508,476]\n",
    "sample_mean = np.mean(sample)\n",
    "sample_std = np.std(sample)\n",
    "population_mean = 500\n",
    "sample_size = 10\n",
    "print(sample_mean)\n",
    "print(sample_std)"
   ]
  },
  {
   "cell_type": "code",
   "execution_count": null,
   "metadata": {},
   "outputs": [],
   "source": [
    "T_score = t_score(sample_size,sample_mean,population_mean,sample_std)\n",
    "print(T_score)"
   ]
  },
  {
   "cell_type": "code",
   "execution_count": null,
   "metadata": {},
   "outputs": [],
   "source": [
    "confidence_level = 0.95\n",
    "df = 9  # df = n-1 = 10-1 = 9\n",
    "alpha = 1 - confidence_level\n",
    "t_critical = t.ppf(1-alpha/2,df) # 2 tailed test\n",
    "print(t_critical)"
   ]
  },
  {
   "cell_type": "code",
   "execution_count": null,
   "metadata": {},
   "outputs": [],
   "source": [
    "\n",
    "#plotting the sample distribution with rejection region\n",
    "x_min = 400\n",
    "x_max = 600\n",
    "\n",
    "#defining sample mean and sample std\n",
    "mean = population_mean\n",
    "std = sample_std/ sample_size**0.5\n",
    "\n",
    "#plotting the graph and setting limits\n",
    "x = np.linspace(x_min,x_max,100)\n",
    "y = norm.pdf(x, mean ,std)\n",
    "plt.xlim(x_min,x_max)\n",
    "plt.plot(x,y)\n",
    "\n",
    "#Computing the left and right critical values\n",
    "t_critical_left = population_mean + (-t_critical*std)\n",
    "t_critical_right = population_mean + (t_critical*std)\n",
    "\n",
    "#Shading the left rejection region\n",
    "x1 = np.linspace(x_min,t_critical_left,100)\n",
    "y1 = norm.pdf(x1,mean,std)\n",
    "plt.fill_between(x1,y1,color='red')\n",
    "\n",
    "#Shading the right rejection region\n",
    "x2 = np.linspace(t_critical_right,x_max,100)\n",
    "y2 = norm.pdf(x2,mean,std)\n",
    "plt.fill_between(x2,y2,color='red')\n",
    "\n",
    "#plotting the sample mean\n",
    "plt.scatter(sample_mean,0)\n",
    "plt.annotate('X_bar',(sample_mean,0.0007))"
   ]
  },
  {
   "cell_type": "code",
   "execution_count": null,
   "metadata": {},
   "outputs": [],
   "source": [
    "#conclusion using t-test\n",
    "if(np.abs(T_score)>t_critical):\n",
    "    print(\"Reject null hypothesis\")\n",
    "else:\n",
    "    print(\"Failed to reject null hypothesis\")"
   ]
  },
  {
   "cell_type": "code",
   "execution_count": null,
   "metadata": {},
   "outputs": [],
   "source": [
    "#Conclusion using p-test:\n",
    "p_value = 2 * (1.0 - norm.cdf(np.abs(T_score)))\n",
    "print(\"P_value:\",p_value)\n",
    "if (p_value<alpha):\n",
    "    print(\"Reject null hypothesis\")\n",
    "else:\n",
    "    print(\"Failes to reject null hypothesis\")"
   ]
  },
  {
   "cell_type": "markdown",
   "metadata": {},
   "source": [
    "<b>Q-2: You have developed a new Natural Language Processing Algorithms and done a user study. You claim that the average \n",
    "    rating given by the users is greater than 4 on a scale of 1 to 5. How do you prove this to your client? </b>\n",
    "    \n",
    "$\\ Step - 1 :\\\\\n",
    "\\ Alternate \\ hypothesis\\ (bold\\ claim) :$$$\\ {H1} = All\\ users\\ rating\\ are\\ above\\ 4 $$$\\ Null \\ hypothesis\\ (status\\ quo) : $$$\\ {H0} = Users\\ ratings\\ are\\ not\\ above\\ 4 $$\n",
    "\n",
    "$\\ Step-2:\\\\\n",
    "\\bullet\\ Collection\\ of\\ sample\\ size :n=20\\\\ $$$ [ 4,3,5,4,5,5,5,5,4,4,4,5,5,4,4,5,4,5,4,5 ] $$$ \\bullet\\ Compute\\ sample\\ mean: $$$ \\Large \\bar{x} = ?$$\n",
    "\n",
    "$\\ Step-3: \\\\\n",
    "\\ Compute\\ test\\ statistic\\ (as\\ population\\ std.dev\\ is\\ not\\ given):\\\\ $$$ \\Large t = \\frac{\\bar{x}-\\mu_{\\bar{x}}}{\\frac{\\ S}{\\sqrt{n}}} $$\n",
    "\n",
    "$\\ Step-4: \\\\\n",
    "\\ Decide\\ \\alpha\\ or\\ significance\\ level.$\n",
    "\n",
    "$\\ Step-5.1: \\\\\n",
    "\\ Calculate\\ tailed\\ t-test\\ ?$$$ Reject\\ Null\\ hypothesis\\ or\\ not\\ ? $$$\\ Step-5.2: \\\\\n",
    "\\ Calculate\\ p-value\\ ?$"
   ]
  },
  {
   "cell_type": "code",
   "execution_count": null,
   "metadata": {},
   "outputs": [],
   "source": [
    "#Calculating sample mean,sample standard deviation\n",
    "sample = [4,3,5,4,5,5,5,5,4,4,4,5,5,4,4,5,4,5,4,5]\n",
    "sample_mean = np.mean(sample)\n",
    "sample_std = np.std(sample)\n",
    "population_mean = 4\n",
    "sample_size = 20\n",
    "print(sample_mean)\n",
    "print(sample_std)"
   ]
  },
  {
   "cell_type": "code",
   "execution_count": null,
   "metadata": {},
   "outputs": [],
   "source": [
    "T_score = t_score(sample_size,sample_mean,population_mean,sample_std)\n",
    "print(T_score)"
   ]
  },
  {
   "cell_type": "code",
   "execution_count": null,
   "metadata": {},
   "outputs": [],
   "source": [
    "#Calculating t-critical\n",
    "confidence_level = 0.95\n",
    "df = 19\n",
    "alpha = 1 - confidence_level\n",
    "t_critical = t.ppf(1-alpha,df)\n",
    "print(t_critical)"
   ]
  },
  {
   "cell_type": "code",
   "execution_count": null,
   "metadata": {},
   "outputs": [],
   "source": [
    "#plotting the sampling distribution with rejection region\n",
    "x_min = 2.5\n",
    "x_max = 5.5\n",
    "\n",
    "#defining the sample mean and sample standard deviation\n",
    "mean = population_mean\n",
    "std = sample_std/ (sample_size**0.5)\n",
    "\n",
    "#plotting the graph and setting x_limit\n",
    "x = np.linspace(x_min,x_max,100)\n",
    "y = norm.pdf(x,mean,std)\n",
    "plt.xlim(x_min,x_max)\n",
    "plt.plot(x,y)\n",
    "\n",
    "#Computing right critical t value\n",
    "t_critical_right = population_mean + (t_critical * std)\n",
    "\n",
    "#shading the right rejection area\n",
    "x1 = np.linspace(t_critical_right,x_max,100)\n",
    "y1 = norm.pdf(x1,mean,std)\n",
    "plt.fill_between(x1,y1,color=\"red\")\n",
    "\n",
    "#plotting the sample_mean and concluding the results\n",
    "plt.scatter(sample_mean,0)\n",
    "plt.annotate(\"x_bar\",(sample_mean,0.01))"
   ]
  },
  {
   "cell_type": "code",
   "execution_count": null,
   "metadata": {},
   "outputs": [],
   "source": [
    "if (t_critical<T_score):\n",
    "    print(\"Reject null hypothesis\")\n",
    "else: \n",
    "    print(\"Failed to reject null hypothesis\")"
   ]
  },
  {
   "cell_type": "code",
   "execution_count": null,
   "metadata": {},
   "outputs": [],
   "source": [
    "#Conclusion using p-test\n",
    "p_value = 1.0 - norm.cdf(np.abs(T_score))\n",
    "print(\"P_value :\",p_value)\n",
    "if(p_value<alpha):\n",
    "    print(\"Reject null hypothesis\")\n",
    "else:\n",
    "    print(\"Failed to reject null hypothesis\")"
   ]
  },
  {
   "cell_type": "markdown",
   "metadata": {},
   "source": [
    "<b> Q-3: TATA has developed a better fuel management system for the SUV segment. They claim that with this system,\n",
    "    on average the SUV's mileage is at least 15 km/litre?</b>\n",
    "    \n",
    "\n",
    "$\\ Step - 1 :\\\\\n",
    "\\ Alternate \\ hypothesis\\ (bold\\ claim) :$$$\\ {H1} = Average\\ mileage\\ is\\ atleast\\ 15km/litre $$$\\ Null \\ hypothesis\\ (status\\ quo) : $$$\\ {H0} = Average\\ mileage\\ is\\ not\\ 15kmpl $$\n",
    "\n",
    "$\\ Step-2:\\\\\n",
    "\\bullet\\ Collection\\ of\\ sample\\ size :n=10\\\\ $$$  [ 13.78, 16.26, 15.30, 15.51, 14.83, 16.79, 15.98, 16.68, 12.33, 15.43] $$$ \\bullet\\ Compute\\ sample\\ mean: $$$ \\Large \\bar{x} = ?$$\n",
    "\n",
    "$\\ Step-3: \\\\\n",
    "\\ Compute\\ test\\ statistic\\ (as\\ population\\ std.dev\\ is\\ not\\ given):\\\\ $$$ \\Large t = \\frac{\\bar{x}-\\mu_{\\bar{x}}}{\\frac{\\ S}{\\sqrt{n}}} $$\n",
    "\n",
    "$\\ Step-4: \\\\\n",
    "\\ Decide\\ \\alpha\\ or\\ significance\\ level.$\n",
    "\n",
    "$\\ Step-5.1: \\\\\n",
    "\\ Calculate\\ tailed\\ t-test\\ ?$$$ Reject\\ Null\\ hypothesis\\ or\\ not\\ ? $$$\\ Step-5.2: \\\\\n",
    "\\ Calculate\\ p-value\\ ?$\n"
   ]
  },
  {
   "cell_type": "code",
   "execution_count": null,
   "metadata": {},
   "outputs": [],
   "source": [
    "# calculate sample mean and smaple standard deviation\n",
    "sample = [13.78,16.26,15.30,15.51,14.83,16.79,15.98,16.68,12.33,15.43]\n",
    "sample_mean = np.mean(sample)\n",
    "sample_std = np.std(sample)\n",
    "population_mean = 15\n",
    "sample_size = 10\n",
    "print(sample_mean)\n",
    "print(sample_std)\n"
   ]
  },
  {
   "cell_type": "code",
   "execution_count": null,
   "metadata": {},
   "outputs": [],
   "source": [
    "T_score = t_score(sample_size,sample_mean,population_mean,sample_std)\n",
    "print(T_score)\n"
   ]
  },
  {
   "cell_type": "code",
   "execution_count": null,
   "metadata": {},
   "outputs": [],
   "source": [
    "#Calculate t-critical\n",
    "confidence_level = 0.95\n",
    "alpha = 1 - confidence_level\n",
    "df = 19\n",
    "t_critical = t.ppf(1-alpha,df)\n",
    "print(t_critical)"
   ]
  },
  {
   "cell_type": "code",
   "execution_count": null,
   "metadata": {},
   "outputs": [],
   "source": [
    "\n",
    "#plotting sampling distribution with rejection region\n",
    "x_min = 13\n",
    "x_max = 17\n",
    "\n",
    "#defining the sample mean and sample std\n",
    "mean = population_mean\n",
    "std = sample_std / (sample_size**0.5)\n",
    "\n",
    "#plotting the graph and setting x limits\n",
    "x = np.linspace(x_min, x_max,100)\n",
    "y = norm.pdf(x,mean,std)\n",
    "plt.xlim(x_min,x_max)\n",
    "plt.plot(x,y)\n",
    "\n",
    "#defining the t critical right value\n",
    "t_critical_right = population_mean + (t_critical * std)\n",
    "\n",
    "#shading the rejection region\n",
    "x1 = np.linspace(t_critical_right,x_max,100)\n",
    "y1 = norm.pdf(x1,mean, std)\n",
    "plt.fill_between(x1,y1,color='red')\n",
    "\n",
    "#plotting sample mean and concluding results\n",
    "plt.scatter(sample_mean,0)\n",
    "plt.annotate(\"x_bar\",(sample_mean,0.01))"
   ]
  },
  {
   "cell_type": "code",
   "execution_count": null,
   "metadata": {},
   "outputs": [],
   "source": [
    "#Conclusion using t-test\n",
    "if(T_score>t_critical):\n",
    "    print(\"Reject null hypothesis\")\n",
    "else: \n",
    "    print(\"Failed to reject null hypothesis\")"
   ]
  },
  {
   "cell_type": "code",
   "execution_count": null,
   "metadata": {},
   "outputs": [],
   "source": [
    "#Conclusion using p-test\n",
    "p_value = 1.0 - norm.cdf(np.abs(T_score))\n",
    "print(\"P_value\",p_value)\n",
    "if (p_value<alpha):\n",
    "    print(\"Reject null hypothesis\")\n",
    "else:\n",
    "    print(\"Failed to reject null hypothesis\")"
   ]
  },
  {
   "cell_type": "markdown",
   "metadata": {},
   "source": [
    "<b> Q-4: You have developed a new Machine Learning Application and claim that on average it takes less than 100 ms\n",
    "    to predict for any future datapoint. How do you convince your client about this claim? </b>\n",
    "    \n",
    "\n",
    "\n",
    "$\\ Step - 1 :\\\\\n",
    "\\ Alternate \\ hypothesis\\ (bold\\ claim) :$$$\\ {H1} = Takes\\ less\\ than\\ 100ms\\ for\\ prediction $$$\\ Null \\ hypothesis\\ (status\\ quo) : $$$\\ {H0} = Takes\\ more\\ than\\ 100ms $$\n",
    "\n",
    "$\\ Step-2:\\\\\n",
    "\\bullet\\ Collection\\ of\\ sample\\ size :n=20\\\\ $$$  [ 80,95,94,89,101,99,96,103,87,98,99,87,106,98,98,85,97,99,102,105] $$$ \\bullet\\ Compute\\ sample\\ mean: $$$ \\Large \\bar{x} = ?$$\n",
    "\n",
    "$\\ Step-3: \\\\\n",
    "\\ Compute\\ test\\ statistic\\ (as\\ population\\ std.dev\\ is\\ not\\ given):\\\\ $$$ \\Large t = \\frac{\\bar{x}-\\mu_{\\bar{x}}}{\\frac{\\ S}{\\sqrt{n}}} $$\n",
    "\n",
    "$\\ Step-4: \\\\\n",
    "\\ Decide\\ \\alpha\\ or\\ significance\\ level.$\n",
    "\n",
    "$\\ Step-5.1: \\\\\n",
    "\\ Calculate\\ tailed\\ t-test\\ ?$$$ Reject\\ Null\\ hypothesis\\ or\\ not\\ ? $$$\\ Step-5.2: \\\\\n",
    "\\ Calculate\\ p-value\\ ?$\n"
   ]
  },
  {
   "cell_type": "code",
   "execution_count": null,
   "metadata": {},
   "outputs": [],
   "source": [
    "#Calculating sample mean and sample standard deviation\n",
    "sample = [80,95,94,89,101,99,96,103,87,98,99,87,106,98,98,85,97,99,102,105]\n",
    "sample_mean = np.mean(sample)\n",
    "sample_std = np.std(sample)\n",
    "population_mean = 100\n",
    "sample_size = 20\n",
    "print(sample_mean)\n",
    "print(sample_std)"
   ]
  },
  {
   "cell_type": "code",
   "execution_count": null,
   "metadata": {},
   "outputs": [],
   "source": [
    "#calculating t-score\n",
    "T_score = t_score(sample_size,sample_mean,population_mean,sample_std)\n",
    "print(T_score)"
   ]
  },
  {
   "cell_type": "code",
   "execution_count": null,
   "metadata": {},
   "outputs": [],
   "source": [
    "#calculating t-critical\n",
    "confidence_level = 0.99\n",
    "alpha = 1 - confidence_level\n",
    "df = 19\n",
    "t_critical = t.ppf(1-alpha,df)\n",
    "print(t_critical)"
   ]
  },
  {
   "cell_type": "code",
   "execution_count": null,
   "metadata": {},
   "outputs": [],
   "source": [
    "# plotting sample distribution with rejection region\n",
    "x_min = 80\n",
    "x_max = 120\n",
    "\n",
    "#Calculating mean and standard deviation\n",
    "mean = population_mean\n",
    "std = sample_std / (sample_size**0.5)\n",
    "\n",
    "#plotting the graph and setting xlimits\n",
    "x = np.linspace(x_min,x_max,100)\n",
    "y = norm.pdf(x,mean,std)\n",
    "plt.xlim(x_min,x_max)\n",
    "plt.plot(x,y)\n",
    "\n",
    "#defining t critical left value\n",
    "t_critical_left = population_mean + (-t_critical * std)\n",
    "\n",
    "#shading the rejection region\n",
    "x1 = np.linspace(x_min,t_critical_left,100)\n",
    "y1 = norm.pdf(x1,mean,std)\n",
    "plt.fill_between(x1,y1,color='red')\n",
    "\n",
    "#Plotting sample mean and conclusion\n",
    "plt.scatter(sample_mean,0)\n",
    "plt.annotate(\"x_bar\",(sample_mean,0.01))"
   ]
  },
  {
   "cell_type": "code",
   "execution_count": null,
   "metadata": {},
   "outputs": [],
   "source": [
    "#conclusion using t_test\n",
    "if (T_score<-t_critical):\n",
    "    print(\"Reject null hypothesis\")\n",
    "else:\n",
    "    print(\"Failed to reject null hypothesis\")"
   ]
  },
  {
   "cell_type": "code",
   "execution_count": null,
   "metadata": {},
   "outputs": [],
   "source": [
    "#Conclusion using p- test\n",
    "p_value = 1.0 - norm.cdf(np.abs(T_score))\n",
    "print(\"P_value:\",p_value)\n",
    "if (p_value<alpha):\n",
    "    print(\"Reject null hypothesis\")\n",
    "else: \n",
    "    print(\"Failed to reject null hypothesis\")"
   ]
  },
  {
   "cell_type": "code",
   "execution_count": null,
   "metadata": {},
   "outputs": [],
   "source": []
  },
  {
   "cell_type": "code",
   "execution_count": null,
   "metadata": {},
   "outputs": [],
   "source": []
  }
 ],
 "metadata": {
  "kernelspec": {
   "display_name": "Python 3",
   "language": "python",
   "name": "python3"
  },
  "language_info": {
   "codemirror_mode": {
    "name": "ipython",
    "version": 3
   },
   "file_extension": ".py",
   "mimetype": "text/x-python",
   "name": "python",
   "nbconvert_exporter": "python",
   "pygments_lexer": "ipython3",
   "version": "3.8.5"
  }
 },
 "nbformat": 4,
 "nbformat_minor": 4
}
